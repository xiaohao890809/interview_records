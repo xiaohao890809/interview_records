{
 "cells": [
  {
   "cell_type": "markdown",
   "metadata": {},
   "source": [
    "# 项目难点和亮点"
   ]
  },
  {
   "cell_type": "markdown",
   "metadata": {},
   "source": [
    "## 难点1：\n",
    "\n",
    "**调用udf解密姓氏得到脱敏信息，全量解密很耗时，增量解密怎么弄呢？**\n",
    "\n",
    "1. 将uid和加密信息放入一个分区表里，当做初始数据\n",
    "1. 后面每天拿最新数据与前一天的数据进行对比，找出**新增的用户**或者**加密信息不同的用户**，然后将解密的脱敏信息放入一个分区表里\n",
    "   > 注意：这里不能用有更新的用户，因为业务经常刷数据，哪一天突然刷了很多数据，解密就会卡主的\n",
    "1. 从解密的脱敏分区表里取每个用户的**最新一条数据**即可"
   ]
  },
  {
   "cell_type": "markdown",
   "metadata": {},
   "source": [
    "# 你的优缺点"
   ]
  },
  {
   "cell_type": "markdown",
   "metadata": {},
   "source": [
    "# 自我介绍"
   ]
  },
  {
   "cell_type": "markdown",
   "metadata": {},
   "source": [
    "# 11.23-蚂蚁金服"
   ]
  },
  {
   "cell_type": "markdown",
   "metadata": {},
   "source": [
    "职位详情如下：\n",
    "\n",
    "- 职位名称：Alipay Payment Services Hong Kong Limited-数据开发工程师\n",
    "\n",
    "职位描述：\n",
    "1. 负责核心数据仓库和集市建设，数据ETL的设计、开发与性能优化，负责业务需求的需求理解、数据探查和分析； \n",
    "2. 负责大数据平台的仓库模型设计，数据模型建模 ； \n",
    "3. 建立实时和离线大数据处理流程，整合算法模型进行数据处理。\n",
    "\n",
    "职位要求：\n",
    "1. 熟悉python开发语言，熟悉hive/hadoop等分布式计算技术，熟悉其运行机制和体系结构，有MR作业编写经验优化。 \n",
    "2. 灵活运用SQL实现海量数据ETL加工处理 ，有较好的SQL性能调优经验； \n",
    "3. 思路清晰，对数据敏感，有良好的沟通表达能力和跨团队协作能力 ； \n",
    "4. 有一定的数据分析和挖掘能力，能从海量数据提炼核心结果，及时发现和分析其中隐含的变化和问题，有数据分析、挖掘、清洗、建模和BI分析的经验优先； \n",
    "5. 熟悉数据仓库领域知识和技能者优先，包括但不局限于：数据集市设计、元数据管理、数据质量、主数据管理\n",
    "\n",
    "\n",
    "一面回忆版本（2020.11.23 20:00）\n",
    "\n",
    "1. 自我介绍\n",
    "1. 谈一下每一次工作的内容\n",
    "1. 一个sql，你怎样才让它查起来比较快呢？\n",
    "    - spark presto落地内存(不是面试官想要的)\n",
    "    - 临时表，子查询，uinon all，ditinct 避免这些，为什么这样会快\n",
    "1. 你的职业规划？\n",
    "1. 工作中遇到过哪些技术难题？怎么解决的？\n",
    "    - 举了小时标签增量数据的例子\n",
    "    - 后面又详细讨论了下\n",
    "1. 举一个完整的例子，你是怎么做项目流程开发的？\n",
    "1. 平时用到了哪些大数据组件\n",
    "1. spark的运行参数是怎么调节的\n",
    "1. 工作中的数据倾斜问题怎么解决的\n",
    "    - 重点聊了下\n",
    "1. 从前面几份工作中有什么收获和体验值得现在反思的吗\n",
    "1. 平时有做 bi 设计吗，用的什么框架和工具，以及是怎么分析的\n",
    "1. 平时用 python 多吗，一般用来做啥？\n",
    "1. 有什么问题想了解的吗\n",
    "1. 你觉得你的优势是什么\n",
    "1. 你们数仓的数据量如何\n",
    "1. 数仓和传统 mysql 数据库的差别是啥"
   ]
  },
  {
   "cell_type": "code",
   "execution_count": null,
   "metadata": {},
   "outputs": [],
   "source": []
  }
 ],
 "metadata": {
  "kernelspec": {
   "display_name": "Python 3",
   "language": "python",
   "name": "python3"
  },
  "language_info": {
   "codemirror_mode": {
    "name": "ipython",
    "version": 3
   },
   "file_extension": ".py",
   "mimetype": "text/x-python",
   "name": "python",
   "nbconvert_exporter": "python",
   "pygments_lexer": "ipython3",
   "version": "3.8.5"
  },
  "toc": {
   "base_numbering": 1,
   "nav_menu": {},
   "number_sections": true,
   "sideBar": true,
   "skip_h1_title": false,
   "title_cell": "Table of Contents",
   "title_sidebar": "Contents",
   "toc_cell": false,
   "toc_position": {},
   "toc_section_display": true,
   "toc_window_display": true
  }
 },
 "nbformat": 4,
 "nbformat_minor": 4
}
